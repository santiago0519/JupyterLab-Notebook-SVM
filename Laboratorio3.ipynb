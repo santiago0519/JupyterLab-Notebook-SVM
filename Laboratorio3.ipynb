{
 "cells": [
  {
   "cell_type": "markdown",
   "id": "67dcd7b7-3741-477d-88ec-c2b0c604fbbc",
   "metadata": {},
   "source": [
    "# Laboratorio 3 | Workshop: SVM"
   ]
  },
  {
   "cell_type": "markdown",
   "id": "9933d925-877c-40c2-9843-148577da7c5f",
   "metadata": {},
   "source": [
    "Sklearn es un paquete de Python, nos brinda una serie de herramientas que permiten el análisis predictivos, de igual manera es muy utilizada en la clasificación, permite la normalización, transformaciones, discretización."
   ]
  },
  {
   "cell_type": "markdown",
   "id": "739e9e08-6611-4ca0-99b7-431f1955f4e1",
   "metadata": {},
   "source": [
    "Importamos la librería sklearn"
   ]
  },
  {
   "cell_type": "code",
   "execution_count": 38,
   "id": "3c154d65-76d5-4096-9e0b-0d4215011a7a",
   "metadata": {},
   "outputs": [],
   "source": [
    "from sklearn import datasets\n",
    "from sklearn.model_selection import train_test_split\n",
    "from sklearn import svm\n",
    "from sklearn import metrics"
   ]
  },
  {
   "cell_type": "markdown",
   "id": "6080416c-3ba3-4b89-8004-4058dad6028b",
   "metadata": {},
   "source": [
    "Cargar y leer el conjunto de datos de wisconsin de cáncer de mama mediate la librería scikit-learn"
   ]
  },
  {
   "cell_type": "code",
   "execution_count": 39,
   "id": "75a0363d-afc8-4446-96dd-51746d724e6e",
   "metadata": {},
   "outputs": [],
   "source": [
    "df = datasets.load_wine()"
   ]
  },
  {
   "cell_type": "markdown",
   "id": "ef36ba14-c992-4b74-bab3-c57937876aa6",
   "metadata": {},
   "source": [
    "Visualizar el nombre de las características (X), las etiquetas (y), y algunos registros para verificación de datos."
   ]
  },
  {
   "cell_type": "code",
   "execution_count": 40,
   "id": "fc9a39e7-7885-44c6-a4f5-ba9551ea85b5",
   "metadata": {
    "tags": []
   },
   "outputs": [
    {
     "name": "stdout",
     "output_type": "stream",
     "text": [
      "Features:\n",
      " ['alcohol', 'malic_acid', 'ash', 'alcalinity_of_ash', 'magnesium', 'total_phenols', 'flavanoids', 'nonflavanoid_phenols', 'proanthocyanins', 'color_intensity', 'hue', 'od280/od315_of_diluted_wines', 'proline']\n",
      "Labels:\n",
      " ['class_0' 'class_1' 'class_2']\n",
      "Shape:\n",
      " (178, 13)\n",
      "Top five records:\n",
      " [[1.423e+01 1.710e+00 2.430e+00 1.560e+01 1.270e+02 2.800e+00 3.060e+00\n",
      "  2.800e-01 2.290e+00 5.640e+00 1.040e+00 3.920e+00 1.065e+03]\n",
      " [1.320e+01 1.780e+00 2.140e+00 1.120e+01 1.000e+02 2.650e+00 2.760e+00\n",
      "  2.600e-01 1.280e+00 4.380e+00 1.050e+00 3.400e+00 1.050e+03]\n",
      " [1.316e+01 2.360e+00 2.670e+00 1.860e+01 1.010e+02 2.800e+00 3.240e+00\n",
      "  3.000e-01 2.810e+00 5.680e+00 1.030e+00 3.170e+00 1.185e+03]\n",
      " [1.437e+01 1.950e+00 2.500e+00 1.680e+01 1.130e+02 3.850e+00 3.490e+00\n",
      "  2.400e-01 2.180e+00 7.800e+00 8.600e-01 3.450e+00 1.480e+03]\n",
      " [1.324e+01 2.590e+00 2.870e+00 2.100e+01 1.180e+02 2.800e+00 2.690e+00\n",
      "  3.900e-01 1.820e+00 4.320e+00 1.040e+00 2.930e+00 7.350e+02]]\n"
     ]
    }
   ],
   "source": [
    "\n",
    "print(\"Features:\\n\", df.feature_names)\n",
    "print(\"Labels:\\n\", df.target_names)\n",
    "print(\"Shape:\\n\", df.data.shape)\n",
    "print(\"Top five records:\\n\", df.data[0:5])\n"
   ]
  },
  {
   "cell_type": "markdown",
   "id": "cf279610-d6ff-40fc-be2a-0b9371020be5",
   "metadata": {},
   "source": [
    "Dividir el conjunto de datos en 70% de entrenamiento y 30% de prueba seleccionando registros al azar."
   ]
  },
  {
   "cell_type": "code",
   "execution_count": 41,
   "id": "aff6479b-bb75-473e-ba5c-927209161e9c",
   "metadata": {},
   "outputs": [],
   "source": [
    "X_train, X_test, y_train, y_test = train_test_split(df.data, df.target, test_size=0.3, random_state=109)"
   ]
  },
  {
   "cell_type": "markdown",
   "id": "a2d8cfa2-c8d6-4988-9667-36f8cda954ef",
   "metadata": {},
   "source": [
    " Crear (instanciar) el clasificador svm con kernel lineal"
   ]
  },
  {
   "cell_type": "code",
   "execution_count": 42,
   "id": "da61ca13-cfb4-406c-8679-5ca0c0fd3892",
   "metadata": {},
   "outputs": [],
   "source": [
    "clf = svm.SVC(kernel='linear')"
   ]
  },
  {
   "cell_type": "markdown",
   "id": "f7503728-47a7-4e99-853a-e59aba1b0d6c",
   "metadata": {},
   "source": [
    "Entrenar el modelo"
   ]
  },
  {
   "cell_type": "code",
   "execution_count": 43,
   "id": "0f850757-5706-41d4-8c7d-f55c49fd949a",
   "metadata": {},
   "outputs": [
    {
     "data": {
      "text/plain": [
       "SVC(kernel='linear')"
      ]
     },
     "execution_count": 43,
     "metadata": {},
     "output_type": "execute_result"
    }
   ],
   "source": [
    "clf.fit(X_train, y_train)"
   ]
  },
  {
   "cell_type": "markdown",
   "id": "7abe9b97-2024-487d-8812-904aa62b066a",
   "metadata": {},
   "source": [
    "Predecir el objetivo (la respuesta) para el conjunto de datos de prueba"
   ]
  },
  {
   "cell_type": "code",
   "execution_count": 44,
   "id": "3a3179ea-730f-4bee-af50-012a452940bf",
   "metadata": {},
   "outputs": [],
   "source": [
    "y_pred = clf.predict(X_test)"
   ]
  },
  {
   "cell_type": "markdown",
   "id": "50494a62-bdd1-4a7a-9e74-f44822fd50f1",
   "metadata": {},
   "source": [
    "Evaluamos el modelo, mediante Accuracy, Precision, y Recall (para más información sobre la métricas de evaluación mire  el apartado de conceptos básicos)"
   ]
  },
  {
   "cell_type": "code",
   "execution_count": 45,
   "id": "25604ca7-3851-414d-b82a-7e8e16b68162",
   "metadata": {
    "tags": []
   },
   "outputs": [
    {
     "name": "stdout",
     "output_type": "stream",
     "text": [
      "Accuracy: 0.9259259259259259\n",
      "Precision: 0.9259259259259259\n",
      "Recall: 0.9259259259259259\n"
     ]
    }
   ],
   "source": [
    "print(\"Accuracy:\", metrics.accuracy_score(y_test, y_pred))\n",
    "print(\"Precision:\", metrics.precision_score(y_test, y_pred, average='micro'))\n",
    "print(\"Recall:\", metrics.recall_score(y_test, y_pred,average='micro'))\n"
   ]
  },
  {
   "cell_type": "code",
   "execution_count": null,
   "id": "6f21a3f2-9b3b-4ac6-9909-09636cb87f76",
   "metadata": {},
   "outputs": [],
   "source": []
  }
 ],
 "metadata": {
  "kernelspec": {
   "display_name": "Python 3 (ipykernel)",
   "language": "python",
   "name": "python3"
  },
  "language_info": {
   "codemirror_mode": {
    "name": "ipython",
    "version": 3
   },
   "file_extension": ".py",
   "mimetype": "text/x-python",
   "name": "python",
   "nbconvert_exporter": "python",
   "pygments_lexer": "ipython3",
   "version": "3.10.0"
  }
 },
 "nbformat": 4,
 "nbformat_minor": 5
}
